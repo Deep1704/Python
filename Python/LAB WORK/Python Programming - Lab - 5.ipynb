{
 "cells": [
  {
   "cell_type": "markdown",
   "metadata": {},
   "source": [
    "\n",
    "<a href='https://www.darshan.ac.in/'> <img src='https://www.darshan.ac.in/Content/media/DU_Logo.svg' width=\"250\" height=\"300\"/></a>\n",
    "<pre>\n",
    "<center><b><h1>Python Programming - 2101CS405</b></center>\n",
    "<center><b><h1>Lab - 5</b></center>    \n",
    "<pre>"
   ]
  },
  {
   "cell_type": "markdown",
   "metadata": {},
   "source": [
    "# list"
   ]
  },
  {
   "cell_type": "markdown",
   "metadata": {},
   "source": [
    "### 01) WAP to find sum of all the elements in List."
   ]
  },
  {
   "cell_type": "code",
   "execution_count": 1,
   "metadata": {},
   "outputs": [
    {
     "name": "stdout",
     "output_type": "stream",
     "text": [
      "Enter the size of list: 5\n",
      "Enter elements: 1\n",
      "Enter elements: 2\n",
      "Enter elements: 3\n",
      "Enter elements: 4\n",
      "Enter elements: 5\n",
      "[1, 2, 3, 4, 5]\n",
      "15\n"
     ]
    }
   ],
   "source": [
    "sum = 0\n",
    "n = int(input(\"Enter the size of list: \"))\n",
    "list = []\n",
    "for i in range(0,n):\n",
    "    element = int(input(\"Enter elements: \"))\n",
    "    list.append(element)\n",
    "print(list)\n",
    "\n",
    "for i in list:\n",
    "    sum += i\n",
    "print(sum)"
   ]
  },
  {
   "cell_type": "markdown",
   "metadata": {},
   "source": [
    "### 02) WAP to find largest element in a List."
   ]
  },
  {
   "cell_type": "code",
   "execution_count": 2,
   "metadata": {},
   "outputs": [
    {
     "name": "stdout",
     "output_type": "stream",
     "text": [
      "Enter the size of list: 5\n",
      "Enter elements: 2\n",
      "Enter elements: 4\n",
      "Enter elements: 8\n",
      "Enter elements: 9\n",
      "Enter elements: 4\n",
      "[2, 4, 8, 9, 4]\n",
      "largest element:  9\n"
     ]
    }
   ],
   "source": [
    "n = int(input(\"Enter the size of list: \"))\n",
    "list = []\n",
    "for i in range(0,n):\n",
    "    element = int(input(\"Enter elements: \"))\n",
    "    list.append(element)\n",
    "print(list)\n",
    "\n",
    "largest_element = max(list)\n",
    "print(\"largest element: \",largest_element)"
   ]
  },
  {
   "cell_type": "markdown",
   "metadata": {},
   "source": [
    "### 03) WAP to split the List into two and append the first part to the end."
   ]
  },
  {
   "cell_type": "code",
   "execution_count": 5,
   "metadata": {},
   "outputs": [
    {
     "name": "stdout",
     "output_type": "stream",
     "text": [
      "Enter the size of list: 5\n",
      "Enter elements: 1\n",
      "Enter elements: 2\n",
      "Enter elements: 3\n",
      "Enter elements: 4\n",
      "Enter elements: 5\n",
      "[1, 2, 3, 4, 5]\n",
      "[1, 2, 3, 4, 5, 1, 2]\n"
     ]
    }
   ],
   "source": [
    "n = int(input(\"Enter the size of list: \"))\n",
    "list1 = []\n",
    "for i in range(0,n):\n",
    "    element = int(input(\"Enter elements: \"))\n",
    "    list1.append(element)\n",
    "print(list1)\n",
    "list2 = list1[:len(list1)//2]\n",
    "list1.extend(list2)\n",
    "print(list1)"
   ]
  },
  {
   "cell_type": "markdown",
   "metadata": {},
   "source": [
    "### 04) WAP to interchange first and last elements in list entered by a user."
   ]
  },
  {
   "cell_type": "code",
   "execution_count": 8,
   "metadata": {},
   "outputs": [
    {
     "name": "stdout",
     "output_type": "stream",
     "text": [
      "Before list =  [4, 7, 1, 5, 6]\n",
      "After list=  [6, 7, 1, 5, 4]\n"
     ]
    }
   ],
   "source": [
    "n1 = int(input(\"Enter size of list: \"))\n",
    "list1 =[]\n",
    "for i in range(0,n1):\n",
    "    element = int(input(\"Enter elements: \"))\n",
    "    list1.append(element)\n",
    "print(\"Before list = \",list1)\n",
    "\n",
    "for element in range(0,len(list1)):\n",
    "    n = len(list1)\n",
    "\n",
    "    temp = list1[0]\n",
    "    list1[0] = list1[n-1]\n",
    "    list1[n-1] = temp\n",
    "print(\"After list= \",list1)"
   ]
  },
  {
   "cell_type": "markdown",
   "metadata": {},
   "source": [
    "### 05) WAP to interchange the elements on two positions entered by a user."
   ]
  },
  {
   "cell_type": "code",
   "execution_count": 6,
   "metadata": {},
   "outputs": [
    {
     "name": "stdout",
     "output_type": "stream",
     "text": [
      "Enter size of list: 5\n",
      "Enter elements: 2\n",
      "Enter elements: 4\n",
      "Enter elements: 7\n",
      "Enter elements: 5\n",
      "Enter elements: 8\n",
      "Enter First Position : 2\n",
      "Enter Second Position : 3\n",
      "[2, 4, 5, 7, 8]\n"
     ]
    }
   ],
   "source": [
    "list = []\n",
    "input1 = 0\n",
    "n = int(input(\"Enter size of list: \"))\n",
    "for i in range(n):\n",
    "    input1 = int(input(\"Enter elements: \"))\n",
    "    list.append(input1)\n",
    "last_element = len(list1)-1\n",
    "n1 = int(input(\"Enter First Position : \"))\n",
    "n2 = int(input(\"Enter Second Position : \"))\n",
    "list[n1],list[n2]=list[n2],list[n1]\n",
    "print(list)"
   ]
  },
  {
   "cell_type": "markdown",
   "metadata": {},
   "source": [
    "### 06) WAP to reverses the list entered by user."
   ]
  },
  {
   "cell_type": "code",
   "execution_count": 10,
   "metadata": {},
   "outputs": [
    {
     "name": "stdout",
     "output_type": "stream",
     "text": [
      "Enter size of list: 5\n",
      "Enter elements: 4\n",
      "Enter elements: 6\n",
      "Enter elements: 3\n",
      "Enter elements: 2\n",
      "Enter elements: 1\n",
      "[4, 6, 3, 2, 1]\n",
      "Reversed list:  [1, 2, 3, 6, 4]\n"
     ]
    }
   ],
   "source": [
    "n1 = int(input(\"Enter size of list: \"))\n",
    "list1 =[]\n",
    "for i in range(0,n1):\n",
    "    element = int(input(\"Enter elements: \"))\n",
    "    list1.append(element)\n",
    "print(list1)\n",
    "list1.reverse()\n",
    "print(\"Reversed list: \",list1)\n"
   ]
  },
  {
   "cell_type": "markdown",
   "metadata": {},
   "source": [
    "### 07) Python program to remove multiple elements from a list using list comprehension"
   ]
  },
  {
   "cell_type": "code",
   "execution_count": 12,
   "metadata": {},
   "outputs": [
    {
     "name": "stdout",
     "output_type": "stream",
     "text": [
      "Enter the size of list: 5\n",
      "Enter elements: 1\n",
      "Enter elements: 2\n",
      "Enter elements: 3\n",
      "Enter elements: 4\n",
      "Enter elements: 5\n",
      "[1, 2, 3, 4, 5]\n",
      "[3, 4, 5]\n"
     ]
    }
   ],
   "source": [
    "n = int(input(\"Enter the size of list: \"))\n",
    "list = []\n",
    "for i in range(0,n):\n",
    "    element = int(input(\"Enter elements: \"))\n",
    "    list.append(element)\n",
    "print(list)\n",
    "\n",
    "n = [i for i in list if i>2]\n",
    "\n",
    "print(n)"
   ]
  },
  {
   "cell_type": "markdown",
   "metadata": {},
   "source": [
    "### 08) Create a list from the specified start to end index of another list."
   ]
  },
  {
   "cell_type": "code",
   "execution_count": 13,
   "metadata": {},
   "outputs": [
    {
     "name": "stdout",
     "output_type": "stream",
     "text": [
      "Enter the size of list: 5\n",
      "Enter elements: 4\n",
      "Enter elements: 7\n",
      "Enter elements: 8\n",
      "Enter elements: 5\n",
      "Enter elements: 4\n",
      "[4, 7, 8, 5, 4]\n",
      "Enter 1st position : 2\n",
      "Enter 2nd position : 3\n"
     ]
    },
    {
     "data": {
      "text/plain": [
       "[8, 5]"
      ]
     },
     "execution_count": 13,
     "metadata": {},
     "output_type": "execute_result"
    }
   ],
   "source": [
    "n = int(input(\"Enter the size of list: \"))\n",
    "list = []\n",
    "for i in range(0,n):\n",
    "    element = int(input(\"Enter elements: \"))\n",
    "    list.append(element)\n",
    "print(list)\n",
    "\n",
    "n1 = int(input(\"Enter 1st position : \"))\n",
    "n2 = int(input(\"Enter 2nd position : \"))\n",
    "\n",
    "l1 = list[n1:n2+1]\n",
    "\n",
    "l1"
   ]
  },
  {
   "cell_type": "markdown",
   "metadata": {},
   "source": [
    "### 09) Input comma separated elements, convert into list and print."
   ]
  },
  {
   "cell_type": "code",
   "execution_count": 21,
   "metadata": {},
   "outputs": [
    {
     "name": "stdout",
     "output_type": "stream",
     "text": [
      "['1', '2', '3']\n"
     ]
    }
   ],
   "source": [
    "String = input(\"Enter the elements: \")\n",
    "list=[]\n",
    "list.extend(String.split(\",\"))\n",
    "print(list)\n"
   ]
  },
  {
   "cell_type": "markdown",
   "metadata": {},
   "source": [
    "### 01) WAP to count Even and Odd numbers in a List."
   ]
  },
  {
   "cell_type": "code",
   "execution_count": 17,
   "metadata": {},
   "outputs": [
    {
     "name": "stdout",
     "output_type": "stream",
     "text": [
      "Enter size of the list: 5\n",
      "Enter elements: 2\n",
      "Enter elements: 4\n",
      "Enter elements: 8\n",
      "Enter elements: 7\n",
      "Enter elements: 3\n",
      "odd Numbers count=  2\n",
      "Even Numbers count=  3\n"
     ]
    }
   ],
   "source": [
    "even_count = 0\n",
    "odd_count = 0\n",
    "n = int(input(\"Enter size of the list: \"))\n",
    "list =[]\n",
    "\n",
    "for i in range(0,n):\n",
    "    element = int(input(\"Enter elements: \"))\n",
    "    list.append(element)\n",
    " \n",
    "for element in range(0,len(list)):\n",
    "   if list[element]%2 == 0:\n",
    "      even_count+=1\n",
    "   else:\n",
    "      odd_count+=1\n",
    "      \n",
    "print(\"odd Numbers count= \",odd_count)\n",
    "print(\"Even Numbers count= \",even_count)\n",
    "\n"
   ]
  },
  {
   "cell_type": "markdown",
   "metadata": {},
   "source": [
    "### 02) Python program to find N largest and smallest elements from the list"
   ]
  },
  {
   "cell_type": "code",
   "execution_count": 16,
   "metadata": {},
   "outputs": [
    {
     "name": "stdout",
     "output_type": "stream",
     "text": [
      "Enter size of list : 5\n",
      "Enter element of list : 4\n",
      "Enter element of list : 6\n",
      "Enter element of list : 7\n",
      "Enter element of list : 8\n",
      "Enter element of list : 9\n",
      "Enter N number : 2\n",
      "First 2 largest number : [9, 8] \n",
      "First 2 smallest number : [4, 6]\n"
     ]
    }
   ],
   "source": [
    "list = []\n",
    "n = int(input(\"Enter size of list : \"))\n",
    "\n",
    "for i in range(n):\n",
    "    x = int(input(\"Enter element of list : \"))\n",
    "    list.append(x)\n",
    "\n",
    "m = int(input(\"Enter N number : \"))\n",
    "\n",
    "list.sort()\n",
    "\n",
    "l1 = list[:m:]\n",
    "l2 = list[:m:-1]\n",
    "\n",
    "print(f\"First {m} largest number :\",l2,f\"\\nFirst {m} smallest number :\",l1)"
   ]
  },
  {
   "cell_type": "markdown",
   "metadata": {},
   "source": [
    "### 03) WAP to print duplicates from a list of integers"
   ]
  },
  {
   "cell_type": "code",
   "execution_count": 20,
   "metadata": {},
   "outputs": [
    {
     "name": "stdout",
     "output_type": "stream",
     "text": [
      "Enter size of list: 5\n",
      "Enter element of list : 4\n",
      "Enter element of list : 7\n",
      "Enter element of list : 5\n",
      "Enter element of list : 7\n",
      "Enter element of list : 8\n"
     ]
    },
    {
     "data": {
      "text/plain": [
       "[{7}]"
      ]
     },
     "execution_count": 20,
     "metadata": {},
     "output_type": "execute_result"
    }
   ],
   "source": [
    "list= []\n",
    "n= int(input(\"Enter size of list: \"))\n",
    "\n",
    "for i in range(n):\n",
    "    x = int(input(\"Enter element of list : \"))\n",
    "    list.append(x)\n",
    "    \n",
    "n = [set(i for i in list if list.count(i)>1)]\n",
    "\n",
    "n\n"
   ]
  }
 ],
 "metadata": {
  "kernelspec": {
   "display_name": "Python 3 (ipykernel)",
   "language": "python",
   "name": "python3"
  },
  "language_info": {
   "codemirror_mode": {
    "name": "ipython",
    "version": 3
   },
   "file_extension": ".py",
   "mimetype": "text/x-python",
   "name": "python",
   "nbconvert_exporter": "python",
   "pygments_lexer": "ipython3",
   "version": "3.9.13"
  },
  "vscode": {
   "interpreter": {
    "hash": "228ec1c77332413f421e77c28617d1df6074d6a46921cdaeb15ed9feeb460bfe"
   }
  }
 },
 "nbformat": 4,
 "nbformat_minor": 4
}
